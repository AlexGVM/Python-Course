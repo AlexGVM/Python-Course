{
 "cells": [
  {
   "cell_type": "code",
   "execution_count": 4,
   "metadata": {},
   "outputs": [
    {
     "name": "stdout",
     "output_type": "stream",
     "text": [
      "1 valor de c\n",
      "2 valor de c\n",
      "3 valor de c\n",
      "4 valor de c\n",
      "5 valor de c\n",
      "6 valor de c\n"
     ]
    }
   ],
   "source": [
    "c = 0\n",
    "while c <= 5:\n",
    "    c+= 1\n",
    "    print(c,\"valor de c\")"
   ]
  },
  {
   "cell_type": "code",
   "execution_count": 5,
   "metadata": {},
   "outputs": [
    {
     "name": "stdout",
     "output_type": "stream",
     "text": [
      "1 valor de c\n",
      "2 valor de c\n",
      "3 valor de c\n",
      "4 valor de c\n",
      "5 valor de c\n",
      "6 valor de c\n",
      "Se ha completado todo el ciclo y c vale 6\n"
     ]
    }
   ],
   "source": [
    "c = 0\n",
    "while c <= 5:\n",
    "    c+= 1\n",
    "    print(c,\"valor de c\")\n",
    "else:\n",
    "    print(\"Se ha completado todo el ciclo y c vale\",c)"
   ]
  },
  {
   "cell_type": "code",
   "execution_count": 8,
   "metadata": {},
   "outputs": [
    {
     "name": "stdout",
     "output_type": "stream",
     "text": [
      "1 valor de c\n",
      "Se rompre el ciclo cuando es c: 2\n"
     ]
    }
   ],
   "source": [
    "c = 0 \n",
    "while c <= 5:\n",
    "    c+= 1\n",
    "    if (c == 2):\n",
    "        print(\"Se rompre el ciclo cuando es c:\", c)\n",
    "        break #BREAK\n",
    "    print(c,\"valor de c\")\n",
    "else:\n",
    "    print(\"Se ha completado todo el ciclo y c vale\",c)"
   ]
  },
  {
   "cell_type": "code",
   "execution_count": 10,
   "metadata": {},
   "outputs": [
    {
     "name": "stdout",
     "output_type": "stream",
     "text": [
      "1 valor de c\n",
      "Continuamos con la siguiente iteracion\n",
      "3 valor de c\n",
      "4 valor de c\n",
      "5 valor de c\n",
      "6 valor de c\n",
      "Se ha completado todo el ciclo y c vale 6\n"
     ]
    }
   ],
   "source": [
    "c = 0 #saltar ejecucion = continue\n",
    "while c <= 5:\n",
    "    c+= 1\n",
    "    if (c == 2):\n",
    "        print(\"Continuamos con la siguiente iteracion\")\n",
    "        continue #continue = saltar\n",
    "    print(c,\"valor de c\")\n",
    "else:\n",
    "    print(\"Se ha completado todo el ciclo y c vale\",c)"
   ]
  },
  {
   "cell_type": "code",
   "execution_count": null,
   "metadata": {},
   "outputs": [],
   "source": []
  }
 ],
 "metadata": {
  "kernelspec": {
   "display_name": "Python 3",
   "language": "python",
   "name": "python3"
  },
  "language_info": {
   "codemirror_mode": {
    "name": "ipython",
    "version": 3
   },
   "file_extension": ".py",
   "mimetype": "text/x-python",
   "name": "python",
   "nbconvert_exporter": "python",
   "pygments_lexer": "ipython3",
   "version": "3.8.5"
  }
 },
 "nbformat": 4,
 "nbformat_minor": 1
}
