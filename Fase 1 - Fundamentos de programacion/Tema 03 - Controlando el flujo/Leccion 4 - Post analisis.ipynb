{
 "cells": [
  {
   "cell_type": "code",
   "execution_count": 1,
   "metadata": {},
   "outputs": [
    {
     "name": "stdout",
     "output_type": "stream",
     "text": [
      "0 es un número par\n",
      "1 es un número impar\n",
      "2 es un número par\n",
      "3 es un número impar\n",
      "4 es un número par\n",
      "5 es un número impar\n",
      "6 es un número par\n",
      "7 es un número impar\n",
      "8 es un número par\n",
      "9 es un número impar\n"
     ]
    }
   ],
   "source": [
    "n = 0\n",
    "while n < 10:\n",
    "    if (n % 2) == 0:\n",
    "        print(n,'es un número par')\n",
    "    else:\n",
    "        print(n,'es un número impar') \n",
    "    n = n + 1"
   ]
  },
  {
   "cell_type": "code",
   "execution_count": null,
   "metadata": {},
   "outputs": [],
   "source": []
  },
  {
   "cell_type": "code",
   "execution_count": null,
   "metadata": {},
   "outputs": [],
   "source": [
    "# Completa el ejercicio aquí\n",
    "print(\"Suma dos numeros\")\n",
    "print(\"Resta dos numeros\")\n",
    "print(\"Multiplica dos numeros\")\n",
    "opcion = int(input(\"Ingrese una opcion a ejecutar\"))\n",
    "\n",
    "if opcion == 1:\n",
    "    num1 = int(input(\"Ingrese el primer número\"))\n",
    "    num2 = int(input(\"Ingrese el segundo número\"))"
   ]
  },
  {
   "cell_type": "code",
   "execution_count": null,
   "metadata": {},
   "outputs": [],
   "source": []
  }
 ],
 "metadata": {
  "kernelspec": {
   "display_name": "Python 3",
   "language": "python",
   "name": "python3"
  },
  "language_info": {
   "codemirror_mode": {
    "name": "ipython",
    "version": 3
   },
   "file_extension": ".py",
   "mimetype": "text/x-python",
   "name": "python",
   "nbconvert_exporter": "python",
   "pygments_lexer": "ipython3",
   "version": "3.8.5"
  }
 },
 "nbformat": 4,
 "nbformat_minor": 1
}
