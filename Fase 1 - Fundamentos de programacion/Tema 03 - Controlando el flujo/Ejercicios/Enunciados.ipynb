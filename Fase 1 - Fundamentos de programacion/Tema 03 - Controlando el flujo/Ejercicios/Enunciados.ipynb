{
 "cells": [
  {
   "cell_type": "markdown",
   "metadata": {},
   "source": [
    "# Tema 03: Control de flujo (Enunciados)\n",
    "*Nota: Estos ejercicios son optativos para hacer al final de la unidad y están pensados para apoyar tu aprendizaje*."
   ]
  },
  {
   "cell_type": "markdown",
   "metadata": {},
   "source": [
    "**1) Realiza un programa que lea dos números por teclado y permita elegir entre 3 opciones en un menú:** \n",
    "* Mostrar una suma de los dos números\n",
    "* Mostrar una resta de los dos números (el primero menos el segundo)\n",
    "* Mostrar una multiplicación de los dos números\n",
    "* En caso de no introducir una opción válida, el programa informará de que no es correcta."
   ]
  },
  {
   "cell_type": "code",
   "execution_count": null,
   "metadata": {},
   "outputs": [],
   "source": [
    "while True:\n",
    "    # Completa el ejercicio aquí\n",
    "    print(\"1. Suma dos numeros\")\n",
    "    print(\"2. Resta dos numeros\")\n",
    "    print(\"3. Multiplica dos numeros\")\n",
    "    print(\"4. SALIR\")\n",
    "    opcion = int(input(\"Ingrese una opcion a ejecutar: \"))\n",
    "    \n",
    "    if opcion == 1:\n",
    "        num1 = int(input(\"Ingrese el primer número: \"))\n",
    "        num2 = int(input(\"Ingrese el segundo número: \"))\n",
    "        print(\"El resultado de la suma es:\",num1 + num2)\n",
    "    \n",
    "    elif opcion == 2:\n",
    "        num1 = int(input(\"Ingrese el primer número: \"))\n",
    "        num2 = int(input(\"Ingrese el segundo número: \"))\n",
    "        print(\"El resultado de la resta es:\",num1 - num2)\n",
    "    \n",
    "    elif opcion == 3:\n",
    "        num1 = int(input(\"Ingrese el primer número: \"))\n",
    "        num2 = int(input(\"Ingrese el segundo número: \"))\n",
    "        print(\"El resultado de la multiplicación es:\",num1 * num2)\n",
    "        \n",
    "    elif opcion == 4:\n",
    "        print(\"Saliendo del programa...\")\n",
    "        break\n",
    "        \n",
    "    else:\n",
    "        print(\"La opcion no existe\")"
   ]
  },
  {
   "cell_type": "markdown",
   "metadata": {},
   "source": [
    "**2) Realiza un programa que lea un número impar por teclado. Si el usuario no introduce un número impar, debe repetise el proceso hasta que lo introduzca correctamente.**"
   ]
  },
  {
   "cell_type": "code",
   "execution_count": null,
   "metadata": {},
   "outputs": [],
   "source": [
    "# Completa el ejercicio aquí\n",
    "while True:\n",
    "    numero = int(input(\"Ingrese un número: \"))\n",
    "    if numero % 2 != 0:\n",
    "        print(\"El numero es impar\",numero)\n",
    "        break\n",
    "    "
   ]
  },
  {
   "cell_type": "markdown",
   "metadata": {},
   "source": [
    "**3) Realiza un programa que sume todos los números enteros pares desde el 0 hasta el 100:**\n",
    "\n",
    "*Sugerencia: Puedes utilizar la funciones sum() y range() para hacerlo más fácil. El tercer parámetro en la función range(inicio, fin, salto) indica un salto de números, pruébalo.*"
   ]
  },
  {
   "cell_type": "code",
   "execution_count": null,
   "metadata": {},
   "outputs": [],
   "source": [
    "# Completa el ejercicio aquí\n",
    "numero = list(range(0,100))\n",
    "numero"
   ]
  },
  {
   "cell_type": "markdown",
   "metadata": {},
   "source": [
    "**4) Realiza un programa que pida al usuario cuantos números quiere introducir. Luego lee todos los números y realiza una media aritmética:**\n"
   ]
  },
  {
   "cell_type": "code",
   "execution_count": null,
   "metadata": {},
   "outputs": [],
   "source": [
    "# Completa el ejercicio aquí\n",
    "# Completa el ejercicio aquí\n",
    "repeticiones = int(input(\"Cuantos numeros quieres introducir? \"))\n",
    "suma = 0\n",
    "contador = 0\n",
    "\n",
    "#for x in range(repeticiones):\n",
    " #   suma += float(input(\"Introduce un numero: \"))\n",
    "while not contador >= repeticiones:\n",
    "    suma += float(input(\"Introduce un numero: \"))\n",
    "    contador += 1\n",
    "print(\"El valor de la media aritmetica es:\", suma/repeticiones)\n",
    "    "
   ]
  },
  {
   "cell_type": "markdown",
   "metadata": {},
   "source": [
    "**5) Realiza un programa que pida al usuario un número entero del 0 al 9, y que mientras el número no sea correcto se repita el proceso. Luego debe comprobar si el número se encuentra en la lista de números y notificarlo:**\n",
    "\n",
    "*Consejo: La sintaxis \"valor in lista\" permite comprobar fácilmente si un valor se encuentra en una lista (devuelve True o False)*"
   ]
  },
  {
   "cell_type": "code",
   "execution_count": 5,
   "metadata": {},
   "outputs": [],
   "source": [
    "# Completa el ejercicio aquí\n",
    "while True:\n",
    "    numero = int(input(\"Ingrese un numero entero: \"))\n",
    "    if numero >= 0 and numero <= 9:\n",
    "        numeros = [1, 3, 6, 9]\n",
    "        if numero in numeros: #el numero esta en(in) numeros\n",
    "            print(True)\n",
    "        else:\n",
    "            print(False)\n",
    "        break\n"
   ]
  },
  {
   "cell_type": "markdown",
   "metadata": {},
   "source": [
    "**6) Utilizando la función range() y la conversión a listas genera las siguientes listas dinámicamente:**\n",
    "* Todos los números del 0 al 10 [0, 1, 2, ..., 10]\n",
    "* Todos los números del -10 al 0 [-10, -9, -8, ..., 0]\n",
    "* Todos los números pares del 0 al 20 [0, 2, 4, ..., 20]\n",
    "* Todos los números impares entre -20 y 0 [-19, -17, -15, ..., -1]\n",
    "* Todos los números múltiples de 5 del 0 al 50 [0, 5, 10, ..., 50]\n",
    "\n",
    "*Pista: Utiliza el tercer parámetro de la función range(inicio, fin, salto).*"
   ]
  },
  {
   "cell_type": "code",
   "execution_count": null,
   "metadata": {},
   "outputs": [],
   "source": [
    "# Completa el ejercicio\n",
    "numeros1 = list(range(0,11))\n",
    "numeros1 = list(range(-10,1))\n",
    "numeros1 = list(range(0,21,2))\n",
    "numeros1 = list(range(-19,1,2))\n",
    "numeros1 = list(range(0,51,5))\n",
    "print(numeros1)"
   ]
  },
  {
   "cell_type": "markdown",
   "metadata": {},
   "source": [
    "**7) Dadas dos listas, debes generar una tercera con todos los elementos que se repitan en ellas, pero no debe repetise ningún elemento en la nueva lista:**"
   ]
  },
  {
   "cell_type": "code",
   "execution_count": 8,
   "metadata": {},
   "outputs": [],
   "source": [
    "# Completa el ejercicio aquí\n",
    "lista1 = [\"h\",\"o\",\"l\",\"w\", \"s\",\"c\"]\n",
    "lista2 = [\"h\",\"o\",\"l\",\"a\", \"p\",\"f\"]\n",
    "lista3 = []\n",
    "\n",
    "for lelista1 in lista1:\n",
    "    for lelista2 in lista2:\n",
    "        if lelista1 == lelista2:\n",
    "            lista3 += lelista1\n",
    "print(lista3)"
   ]
  }
 ],
 "metadata": {
  "anaconda-cloud": {},
  "kernelspec": {
   "display_name": "Python 3",
   "language": "python",
   "name": "python3"
  },
  "language_info": {
   "codemirror_mode": {
    "name": "ipython",
    "version": 3
   },
   "file_extension": ".py",
   "mimetype": "text/x-python",
   "name": "python",
   "nbconvert_exporter": "python",
   "pygments_lexer": "ipython3",
   "version": "3.8.5"
  }
 },
 "nbformat": 4,
 "nbformat_minor": 1
}
