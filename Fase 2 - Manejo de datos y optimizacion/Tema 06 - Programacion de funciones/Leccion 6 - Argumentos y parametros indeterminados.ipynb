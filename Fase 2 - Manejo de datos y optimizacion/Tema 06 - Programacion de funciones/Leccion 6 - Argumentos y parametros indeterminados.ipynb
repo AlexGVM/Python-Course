{
 "cells": [
  {
   "cell_type": "code",
   "execution_count": 3,
   "metadata": {},
   "outputs": [
    {
     "name": "stdout",
     "output_type": "stream",
     "text": [
      "5\n",
      "Hola\n",
      "[1, 2, 3, 4, 5]\n"
     ]
    }
   ],
   "source": [
    "def indeterminados(*args): #parametros indeterminados\n",
    "    for arg in args:\n",
    "        print (arg)\n",
    "    \n",
    "indeterminados(5,\"Hola\",[1,2,3,4,5]) #tupla"
   ]
  },
  {
   "cell_type": "code",
   "execution_count": 4,
   "metadata": {},
   "outputs": [
    {
     "name": "stdout",
     "output_type": "stream",
     "text": [
      "{'n': 5, 'c': 'Hola', 'l': [1, 2, 3, 4, 5]}\n"
     ]
    }
   ],
   "source": [
    "def indeterminados(**kwargs): #key word args\n",
    "    print (kwargs)\n",
    "indeterminados(n=5,c=\"Hola\",l=[1,2,3,4,5]) #tupla"
   ]
  },
  {
   "cell_type": "code",
   "execution_count": 6,
   "metadata": {},
   "outputs": [
    {
     "name": "stdout",
     "output_type": "stream",
     "text": [
      "n  5\n",
      "c  Hola\n",
      "l  [1, 2, 3, 4, 5]\n"
     ]
    }
   ],
   "source": [
    "def indeterminados(**kwargs): #key word args\n",
    "    for kwarg in kwargs:\n",
    "        print (kwarg,\"\",kwargs[kwarg])\n",
    "indeterminados(n=5,c=\"Hola\",l=[1,2,3,4,5]) #tupla"
   ]
  },
  {
   "cell_type": "code",
   "execution_count": null,
   "metadata": {},
   "outputs": [],
   "source": []
  }
 ],
 "metadata": {
  "kernelspec": {
   "display_name": "Python 3",
   "language": "python",
   "name": "python3"
  },
  "language_info": {
   "codemirror_mode": {
    "name": "ipython",
    "version": 3
   },
   "file_extension": ".py",
   "mimetype": "text/x-python",
   "name": "python",
   "nbconvert_exporter": "python",
   "pygments_lexer": "ipython3",
   "version": "3.8.5"
  }
 },
 "nbformat": 4,
 "nbformat_minor": 1
}
